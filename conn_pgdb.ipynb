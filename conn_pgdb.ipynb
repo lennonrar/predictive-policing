{
 "cells": [
  {
   "cell_type": "code",
   "execution_count": 1,
   "id": "stuck-potter",
   "metadata": {},
   "outputs": [],
   "source": [
    "import numpy as np\n",
    "import pandas as pd\n",
    "##imports to postgre\n",
    "import psycopg2"
   ]
  },
  {
   "cell_type": "code",
   "execution_count": 115,
   "id": "basic-bosnia",
   "metadata": {},
   "outputs": [],
   "source": [
    "conn = psycopg2.connect(\n",
    "    host='localhost',\n",
    "    database='pgdb',\n",
    "    user='dev',\n",
    "    password='senhadev')\n",
    "deacData = pd.read_csv('deac_202107011645.csv',index_col=False)"
   ]
  },
  {
   "cell_type": "code",
   "execution_count": 85,
   "id": "motivated-virtue",
   "metadata": {},
   "outputs": [],
   "source": [
    "cur.close()\n",
    "conn.close()"
   ]
  },
  {
   "cell_type": "code",
   "execution_count": 116,
   "id": "afraid-major",
   "metadata": {},
   "outputs": [],
   "source": [
    "cur = conn.cursor()"
   ]
  },
  {
   "cell_type": "code",
   "execution_count": 137,
   "id": "substantial-shareware",
   "metadata": {},
   "outputs": [],
   "source": [
    "cur.execute('Select * from deac')"
   ]
  },
  {
   "cell_type": "code",
   "execution_count": 138,
   "id": "decent-candidate",
   "metadata": {},
   "outputs": [],
   "source": [
    "tuples = cur.fetchall()"
   ]
  },
  {
   "cell_type": "code",
   "execution_count": 119,
   "id": "interpreted-scheme",
   "metadata": {},
   "outputs": [],
   "source": [
    "cols = list(deacData.columns)"
   ]
  },
  {
   "cell_type": "code",
   "execution_count": 139,
   "id": "pointed-cuisine",
   "metadata": {},
   "outputs": [],
   "source": [
    "deacdf = pd.DataFrame(tuples,columns=cols) "
   ]
  },
  {
   "cell_type": "code",
   "execution_count": 141,
   "id": "based-spirituality",
   "metadata": {},
   "outputs": [
    {
     "data": {
      "text/plain": [
       "Index(['nro_bop', 'nro_bop_aditado', 'nro_tombo', 'tipo_tombo',\n",
       "       'unidade_origem', 'unidade_responsavel', 'data_registro',\n",
       "       'hora_registro', 'data_fato', 'dia_semana', 'hora_fato', 'fx_4_hor',\n",
       "       'fx_12_hr', 'data_inst_proc', 'data_concl_proc', 'sit_proc',\n",
       "       'classe_motivo', 'mes_registro', 'mes_fato', 'ano_registro', 'ano_fato',\n",
       "       'registros', 'consolidado', 'fato_real', 'especificacao_crime',\n",
       "       'meio_emp_deac', 'latitude', 'longitude', 'causa_presumivel',\n",
       "       'especializacao_fato', 'grupo_ocorrencia', 'sub_grupo',\n",
       "       'meio_empregado_sisp', 'distrito', 'municipios', 'regionais', 'bairros',\n",
       "       'reg_integracao', 'risp', 'aisp', 'rua_fato', 'empresa', 'linha',\n",
       "       'tipo_transporte', 'complemento', 'local_ocorrencia',\n",
       "       'identificacao_fato', 'relator', 'relato', 'atuacao', 'vit_nome',\n",
       "       'vit_alcunha', 'vit_dt_nasc', 'vit_idade', 'vit_fx_etaria',\n",
       "       'vit_nro_doc', 'vit_tipo_doc', 'vit_pai', 'vit_mae', 'vit_tipo',\n",
       "       'vit_sexo', 'vit_cor_pele', 'vit_grau_inst', 'vit_profissao',\n",
       "       'vit_situacao_emprego', 'vit_estado_civil', 'aut_nome', 'aut_alcunha',\n",
       "       'aut_data_nasc', 'aut_idade', 'aut_fx_etaria', 'aut_nro_doc',\n",
       "       'aut_tipo_doc', 'aut_pai', 'aut_mae', 'aut_tipo', 'aut_sexo',\n",
       "       'grau_de_relacionamento', 'aut_cor_pele', 'aut_grau_inst',\n",
       "       'aut_profissao', 'aut_sit_emprego', 'aut_est_civil', 'meio_locomocao',\n",
       "       'cor_veiculo', 'marca_veic_fuga', 'modelo_do_veic_fuga', 'qtd_autor',\n",
       "       'relatorio', 'ident_autoria'],\n",
       "      dtype='object')"
      ]
     },
     "execution_count": 141,
     "metadata": {},
     "output_type": "execute_result"
    }
   ],
   "source": [
    "deacdf.columns"
   ]
  },
  {
   "cell_type": "code",
   "execution_count": null,
   "id": "ranking-threshold",
   "metadata": {},
   "outputs": [],
   "source": []
  }
 ],
 "metadata": {
  "kernelspec": {
   "display_name": "Python 3",
   "language": "python",
   "name": "python3"
  },
  "language_info": {
   "codemirror_mode": {
    "name": "ipython",
    "version": 3
   },
   "file_extension": ".py",
   "mimetype": "text/x-python",
   "name": "python",
   "nbconvert_exporter": "python",
   "pygments_lexer": "ipython3",
   "version": "3.8.5"
  }
 },
 "nbformat": 4,
 "nbformat_minor": 5
}
